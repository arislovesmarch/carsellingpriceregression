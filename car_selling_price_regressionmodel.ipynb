{
 "cells": [
  {
   "cell_type": "code",
   "execution_count": 65,
   "id": "74e4c7fb-5d4b-4cee-b7ec-cd6fe63fb45c",
   "metadata": {},
   "outputs": [
    {
     "name": "stdout",
     "output_type": "stream",
     "text": [
      "R²-Wert: 0.7920264190364674\n"
     ]
    },
    {
     "data": {
      "image/png": "[encoded data removed]",
      "text/plain": [
       "<Figure size 640x480 with 1 Axes>"
      ]
     },
     "metadata": {},
     "output_type": "display_data"
    }
   ],
   "source": [
    "import pandas as pd\n",
    "import matplotlib.pyplot as plt \n",
    "import numpy as np\n",
    "from sklearn.model_selection import train_test_split\n",
    "from sklearn.linear_model import LinearRegression\n",
    "from sklearn.metrics import r2_score\n",
    "\n",
    "# open car data csv and get an overview about the columns and their values\n",
    "abc='car data.csv'\n",
    "car_data= pd.read_csv(abc)\n",
    "car_data.columns\n",
    "car_data['Car_Name'].value_counts() # the Car_Name city is represented the most so let's try to predict the selling price of a \"city\" car depending on the kms driven\n",
    "city_data=car_data[car_data['Car_Name'] == 'city']\n",
    "\n",
    "# now let's plot the selling price against the km's driven as well as against the year in the same plot, we'll have to create separate dataframes for this\n",
    "year= city_data['Year']\n",
    "kms= city_data['Kms_Driven']\n",
    "selling_price= city_data['Selling_Price']\n",
    "\n",
    "plt.plot( year,selling_price,'o') # shows that the selling price seems to increase given the year so let's take the kms driven and the year as our features\n",
    "\n",
    "# let's craft our features and depending variable (Price)\n",
    "X = city_data[['Kms_Driven', 'Year']]  # Features\n",
    "y = city_data['Selling_Price']  # Selling Prices\n",
    "\n",
    "# split dataset into train and data set\n",
    "X_train, X_test, y_train, y_test = train_test_split(X, y, test_size=0.2, random_state=1)\n",
    "\n",
    "# let's build our model!\n",
    "model= LinearRegression()\n",
    "model.fit(X_train, y_train)\n",
    "\n",
    "# let's make predictions\n",
    "y_pred = model.predict(X_test)\n",
    "\n",
    "# now let's look at our models accuracy\n",
    "r2 = r2_score(y_test, y_pred)\n",
    "print(f\"R²-Wert: {r2}\") #79,2 % that is great!\n",
    "\n",
    "\n",
    "\n",
    "\n",
    "\n"
   ]
  },
  {
   "cell_type": "code",
   "execution_count": 59,
   "id": "2a56053c-70f0-435b-b46c-334bf518b03c",
   "metadata": {},
   "outputs": [
    {
     "data": {
      "text/plain": [
       "Index(['Car_Name', 'Year', 'Selling_Price', 'Present_Price', 'Kms_Driven',\n",
       "       'Fuel_Type', 'Seller_Type', 'Transmission', 'Owner'],\n",
       "      dtype='object')"
      ]
     },
     "execution_count": 59,
     "metadata": {},
     "output_type": "execute_result"
    }
   ],
   "source": [
    "car_data.columns"
   ]
  },
  {
   "cell_type": "code",
   "execution_count": null,
   "id": "3263532a-45b3-47da-b6e1-95088b981235",
   "metadata": {},
   "outputs": [],
   "source": []
  }
 ],
 "metadata": {
  "kernelspec": {
   "display_name": "Python 3 (ipykernel)",
   "language": "python",
   "name": "python3"
  },
  "language_info": {
   "codemirror_mode": {
    "name": "ipython",
    "version": 3
   },
   "file_extension": ".py",
   "mimetype": "text/x-python",
   "name": "python",
   "nbconvert_exporter": "python",
   "pygments_lexer": "ipython3",
   "version": "3.11.7"
  }
 },
 "nbformat": 4,
 "nbformat_minor": 5
}
